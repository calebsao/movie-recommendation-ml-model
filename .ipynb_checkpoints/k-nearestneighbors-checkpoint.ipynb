{
 "cells": [
  {
   "cell_type": "code",
   "execution_count": 1,
   "metadata": {},
   "outputs": [
    {
     "data": {
      "text/plain": [
       "['Datasets/genre_columns.joblib']"
      ]
     },
     "execution_count": 1,
     "metadata": {},
     "output_type": "execute_result"
    }
   ],
   "source": [
    "import pandas as pd\n",
    "from sklearn.preprocessing import MultiLabelBinarizer\n",
    "import joblib\n",
    "\n",
    "# Load the dataset\n",
    "file_path = 'Datasets/netflix_titles.csv'\n",
    "df = pd.read_csv(file_path)\n",
    "\n",
    "# Split the listed_in column to handle multiple genres\n",
    "df['listed_in'] = df['listed_in'].apply(lambda x: x.split(', '))\n",
    "\n",
    "# Use MultiLabelBinarizer to create a binary matrix for genres\n",
    "mlb = MultiLabelBinarizer()\n",
    "genres_encoded = mlb.fit_transform(df['listed_in'])\n",
    "\n",
    "# Create a new DataFrame with the encoded genres\n",
    "genres_df = pd.DataFrame(genres_encoded, columns=mlb.classes_)\n",
    "\n",
    "# Combine the genres with the original DataFrame\n",
    "df = pd.concat([df, genres_df], axis=1)\n",
    "\n",
    "# Save the processed data and the genre columns\n",
    "df.to_csv('Datasets/processed_netflix_titles.csv', index=False)\n",
    "joblib.dump(mlb.classes_, 'Datasets/genre_columns.joblib')\n"
   ]
  },
  {
   "cell_type": "code",
   "execution_count": 2,
   "metadata": {},
   "outputs": [
    {
     "data": {
      "text/plain": [
       "['Datasets/knn_model.joblib']"
      ]
     },
     "execution_count": 2,
     "metadata": {},
     "output_type": "execute_result"
    }
   ],
   "source": [
    "from sklearn.neighbors import NearestNeighbors\n",
    "from sklearn.model_selection import train_test_split\n",
    "\n",
    "# Define the feature matrix and target\n",
    "X = genres_df\n",
    "y = df['title']\n",
    "\n",
    "# Initialize and train the k-NN model\n",
    "knn = NearestNeighbors(n_neighbors=10, algorithm='auto').fit(X)\n",
    "\n",
    "# Save the model using joblib\n",
    "joblib_file = 'Datasets/knn_model.joblib'\n",
    "joblib.dump(knn, joblib_file)\n"
   ]
  },
  {
   "cell_type": "code",
   "execution_count": null,
   "metadata": {},
   "outputs": [],
   "source": []
  }
 ],
 "metadata": {
  "kernelspec": {
   "display_name": "Python 3 (ipykernel)",
   "language": "python",
   "name": "python3"
  },
  "language_info": {
   "codemirror_mode": {
    "name": "ipython",
    "version": 3
   },
   "file_extension": ".py",
   "mimetype": "text/x-python",
   "name": "python",
   "nbconvert_exporter": "python",
   "pygments_lexer": "ipython3",
   "version": "3.11.5"
  }
 },
 "nbformat": 4,
 "nbformat_minor": 2
}
